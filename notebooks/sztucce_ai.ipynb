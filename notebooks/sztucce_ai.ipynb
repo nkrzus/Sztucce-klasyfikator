{
 "cells": [
  {
   "cell_type": "code",
   "execution_count": null,
   "id": "3a9fadfb",
   "metadata": {},
   "outputs": [],
   "source": [
    "import tensorflow as tf\n",
    "from tensorflow.keras.preprocessing.image import ImageDataGenerator\n"
   ]
  },
  {
   "cell_type": "code",
   "execution_count": null,
   "id": "8fc6b759",
   "metadata": {},
   "outputs": [],
   "source": [
    "train_dir = 'data/train'\n",
    "val_dir = 'data/val'\n"
   ]
  },
  {
   "cell_type": "code",
   "execution_count": null,
   "id": "af18e7c4",
   "metadata": {},
   "outputs": [],
   "source": [
    "train_gen = ImageDataGenerator(rescale=1./255).flow_from_directory(\n",
    "    train_dir, target_size=(150, 150), batch_size=16, class_mode='categorical')\n",
    "\n",
    "val_gen = ImageDataGenerator(rescale=1./255).flow_from_directory(\n",
    "    val_dir, target_size=(150, 150), batch_size=16, class_mode='categorical')\n"
   ]
  },
  {
   "cell_type": "code",
   "execution_count": null,
   "id": "1da9aebc",
   "metadata": {},
   "outputs": [],
   "source": [
    "model = tf.keras.models.Sequential([\n",
    "    tf.keras.layers.Conv2D(32, (3,3), activation='relu', input_shape=(150, 150, 3)),\n",
    "    tf.keras.layers.MaxPooling2D(2,2),\n",
    "    tf.keras.layers.Conv2D(64, (3,3), activation='relu'),\n",
    "    tf.keras.layers.MaxPooling2D(2,2),\n",
    "    tf.keras.layers.Flatten(),\n",
    "    tf.keras.layers.Dense(128, activation='relu'),\n",
    "    tf.keras.layers.Dense(3, activation='softmax')\n",
    "])\n"
   ]
  },
  {
   "cell_type": "code",
   "execution_count": null,
   "id": "6570593e",
   "metadata": {},
   "outputs": [],
   "source": [
    "model.compile(optimizer='adam', loss='categorical_crossentropy', metrics=['accuracy'])\n"
   ]
  },
  {
   "cell_type": "code",
   "execution_count": null,
   "id": "fcf71e69",
   "metadata": {},
   "outputs": [],
   "source": [
    "model.fit(train_gen, epochs=10, validation_data=val_gen)\n"
   ]
  }
 ],
 "metadata": {},
 "nbformat": 4,
 "nbformat_minor": 5
}
